{
 "cells": [
  {
   "cell_type": "markdown",
   "id": "72e60b1c",
   "metadata": {},
   "source": [
    "# Logistic Regression for Network Ads"
   ]
  },
  {
   "cell_type": "markdown",
   "id": "723b5bd2",
   "metadata": {},
   "source": [
    "#### 250 example dataset. Contains 2 independent variables 'Age' and 'Expected Sallery' (the feature matrix coefficient values) and the dependant variable vector 'Purchased' (y). In this example we have a linear classifier as shown in the 'Model Visualization' section. This classifier should classify or label a potential buyer based on the independent variables corralation with the dependent variable. Based on the features / independent variables, the prediction can either result in True/1 or False/0. We need to predict a label on whether or not the customer is labled or classified as a statistically potential byer. Thus, qualifying this as a classification case. In this case feature scaling and more specifically standard scaling is applied. Standard scaling removes the mean and scales each feature/variable to unit variance values between -3 and 3. This is done to assure low values are not ignored by the model. The scaling must only be applied after the Train and Test set split to secure against information leakage -  aTest set is supposed to be completely hidden from the Train set."
   ]
  },
  {
   "cell_type": "markdown",
   "id": "c721bc67",
   "metadata": {},
   "source": [
    "## Import Libraries"
   ]
  },
  {
   "cell_type": "code",
   "execution_count": 1,
   "id": "e68623e9",
   "metadata": {},
   "outputs": [],
   "source": [
    "import pandas as pd\n",
    "import numpy as np\n",
    "import matplotlib.pyplot as plt"
   ]
  },
  {
   "cell_type": "markdown",
   "id": "ebc198ea",
   "metadata": {},
   "source": [
    "## Data Preprocessing"
   ]
  },
  {
   "cell_type": "markdown",
   "id": "7a12444b",
   "metadata": {},
   "source": [
    "### Import Dataset"
   ]
  },
  {
   "cell_type": "code",
   "execution_count": 2,
   "id": "9a706325",
   "metadata": {},
   "outputs": [],
   "source": [
    "dataset = pd.read_csv('Network_Ads.csv')\n",
    "X = dataset.iloc[:, :-1].values\n",
    "y = dataset.iloc[:, -1].values"
   ]
  },
  {
   "cell_type": "markdown",
   "id": "7b624142",
   "metadata": {},
   "source": [
    "### Splitting the Training set and Test set"
   ]
  },
  {
   "cell_type": "code",
   "execution_count": 3,
   "id": "990f0ff7",
   "metadata": {},
   "outputs": [],
   "source": [
    "from sklearn.model_selection import train_test_split\n",
    "X_train, X_test, y_train, y_test = train_test_split(X, y, test_size = 0.25, random_state = 0)"
   ]
  },
  {
   "cell_type": "code",
   "execution_count": 4,
   "id": "ca166a7a",
   "metadata": {},
   "outputs": [
    {
     "data": {
      "text/plain": [
       "array([[    39,  71000],\n",
       "       [    28,  59000],\n",
       "       [    28,  44000],\n",
       "       [    31,  15000],\n",
       "       [    19,  25000],\n",
       "       [    60, 102000],\n",
       "       [    53, 143000],\n",
       "       [    46,  22000],\n",
       "       [    22,  81000],\n",
       "       [    47,  25000],\n",
       "       [    41,  51000],\n",
       "       [    32, 117000],\n",
       "       [    33,  60000],\n",
       "       [    19,  76000],\n",
       "       [    28,  89000],\n",
       "       [    25,  87000],\n",
       "       [    40,  75000],\n",
       "       [    29,  83000],\n",
       "       [    24,  19000],\n",
       "       [    49,  28000],\n",
       "       [    20,  74000],\n",
       "       [    28, 123000],\n",
       "       [    35,  91000],\n",
       "       [    27,  17000],\n",
       "       [    32,  18000],\n",
       "       [    27,  57000],\n",
       "       [    26,  35000],\n",
       "       [    46,  23000],\n",
       "       [    31,  74000],\n",
       "       [    37, 144000],\n",
       "       [    27,  20000],\n",
       "       [    23,  48000],\n",
       "       [    20,  82000],\n",
       "       [    31,  34000],\n",
       "       [    48,  29000],\n",
       "       [    20,  82000],\n",
       "       [    33,  41000],\n",
       "       [    27,  58000],\n",
       "       [    35,  22000],\n",
       "       [    30,  80000],\n",
       "       [    18,  44000],\n",
       "       [    26,  43000],\n",
       "       [    34, 115000],\n",
       "       [    19,  21000],\n",
       "       [    28,  59000],\n",
       "       [    24,  55000],\n",
       "       [    26,  80000],\n",
       "       [    46,  79000],\n",
       "       [    48,  96000],\n",
       "       [    40, 107000],\n",
       "       [    33,  51000],\n",
       "       [    18,  82000],\n",
       "       [    47,  30000],\n",
       "       [    24,  32000],\n",
       "       [    37,  53000],\n",
       "       [    45,  22000],\n",
       "       [    22,  55000],\n",
       "       [    25,  79000],\n",
       "       [    21,  88000],\n",
       "       [    41,  72000],\n",
       "       [    35,  53000],\n",
       "       [    34,  25000],\n",
       "       [    56, 133000],\n",
       "       [    23,  66000],\n",
       "       [    30, 107000],\n",
       "       [    30,  79000],\n",
       "       [    31,  76000],\n",
       "       [    28,  55000],\n",
       "       [    30,  15000],\n",
       "       [    56, 104000],\n",
       "       [    40,  47000],\n",
       "       [    26,  30000],\n",
       "       [    38,  61000],\n",
       "       [    31,  71000],\n",
       "       [    35,  73000],\n",
       "       [    29,  75000],\n",
       "       [    29,  28000],\n",
       "       [    36,  50000],\n",
       "       [    46,  82000],\n",
       "       [    37,  55000],\n",
       "       [    19,  19000],\n",
       "       [    29,  83000],\n",
       "       [    35,  44000],\n",
       "       [    31,  68000],\n",
       "       [    31,  89000],\n",
       "       [    30, 135000],\n",
       "       [    31, 118000],\n",
       "       [    35,  50000],\n",
       "       [    18,  68000],\n",
       "       [    45,  22000],\n",
       "       [    59, 143000],\n",
       "       [    30,  89000],\n",
       "       [    28,  87000],\n",
       "       [    27,  88000],\n",
       "       [    33,  31000],\n",
       "       [    35,  39000],\n",
       "       [    57, 122000],\n",
       "       [    27,  84000],\n",
       "       [    22,  63000],\n",
       "       [    30,  62000],\n",
       "       [    37,  72000],\n",
       "       [    49,  86000],\n",
       "       [    35,  72000],\n",
       "       [    42, 149000],\n",
       "       [    55, 130000],\n",
       "       [    24,  84000],\n",
       "       [    30, 116000],\n",
       "       [    59,  42000],\n",
       "       [    26,  52000],\n",
       "       [    41,  59000],\n",
       "       [    32,  86000],\n",
       "       [    35,  27000],\n",
       "       [    28,  79000],\n",
       "       [    29,  47000],\n",
       "       [    24,  58000],\n",
       "       [    35,  20000],\n",
       "       [    36,  75000],\n",
       "       [    26,  80000],\n",
       "       [    35, 108000],\n",
       "       [    21,  72000],\n",
       "       [    30,  87000],\n",
       "       [    60, 108000],\n",
       "       [    45,  26000],\n",
       "       [    26,  72000],\n",
       "       [    21,  68000],\n",
       "       [    35,  23000],\n",
       "       [    33,  69000],\n",
       "       [    19,  26000],\n",
       "       [    30,  17000],\n",
       "       [    27,  90000],\n",
       "       [    29,  43000],\n",
       "       [    33,  43000],\n",
       "       [    42,  80000],\n",
       "       [    35,  38000],\n",
       "       [    41,  45000],\n",
       "       [    27, 137000],\n",
       "       [    58, 101000],\n",
       "       [    26,  32000],\n",
       "       [    31,  66000],\n",
       "       [    41,  80000],\n",
       "       [    39,  42000],\n",
       "       [    21,  16000],\n",
       "       [    35,  71000],\n",
       "       [    35,  59000],\n",
       "       [    40,  78000],\n",
       "       [    41,  30000],\n",
       "       [    31,  18000],\n",
       "       [    25,  22000],\n",
       "       [    28,  37000],\n",
       "       [    20,  49000],\n",
       "       [    51, 146000],\n",
       "       [    23,  28000],\n",
       "       [    26,  17000],\n",
       "       [    20,  36000],\n",
       "       [    40, 142000],\n",
       "       [    40,  57000],\n",
       "       [    29,  61000],\n",
       "       [    38,  59000],\n",
       "       [    20,  23000],\n",
       "       [    22,  27000],\n",
       "       [    47,  20000],\n",
       "       [    18,  86000],\n",
       "       [    39,  42000],\n",
       "       [    38, 112000],\n",
       "       [    34,  72000],\n",
       "       [    37,  80000],\n",
       "       [    27,  31000],\n",
       "       [    35, 147000],\n",
       "       [    19,  70000],\n",
       "       [    22,  18000],\n",
       "       [    19,  85000],\n",
       "       [    26,  81000],\n",
       "       [    49,  65000],\n",
       "       [    25,  80000],\n",
       "       [    28,  85000],\n",
       "       [    33,  28000],\n",
       "       [    47,  49000],\n",
       "       [    52, 150000],\n",
       "       [    35,  65000],\n",
       "       [    33, 149000],\n",
       "       [    34,  43000],\n",
       "       [    23,  82000],\n",
       "       [    29,  43000],\n",
       "       [    36,  52000],\n",
       "       [    27,  54000],\n",
       "       [    26, 118000]], dtype=int64)"
      ]
     },
     "execution_count": 4,
     "metadata": {},
     "output_type": "execute_result"
    }
   ],
   "source": [
    "X_train"
   ]
  },
  {
   "cell_type": "code",
   "execution_count": 5,
   "id": "cb14b9bf",
   "metadata": {},
   "outputs": [
    {
     "data": {
      "text/plain": [
       "array([[    41,  52000],\n",
       "       [    29, 148000],\n",
       "       [    18,  52000],\n",
       "       [    26,  15000],\n",
       "       [    24,  89000],\n",
       "       [    33, 113000],\n",
       "       [    23,  20000],\n",
       "       [    32, 135000],\n",
       "       [    46,  96000],\n",
       "       [    35,  58000],\n",
       "       [    35,  25000],\n",
       "       [    49,  74000],\n",
       "       [    35,  88000],\n",
       "       [    35,  47000],\n",
       "       [    25,  90000],\n",
       "       [    39, 134000],\n",
       "       [    24,  55000],\n",
       "       [    35,  75000],\n",
       "       [    42,  80000],\n",
       "       [    26,  15000],\n",
       "       [    41,  71000],\n",
       "       [    23,  63000],\n",
       "       [    37,  33000],\n",
       "       [    35,  50000],\n",
       "       [    28,  84000],\n",
       "       [    52, 114000],\n",
       "       [    30,  49000],\n",
       "       [    37,  71000],\n",
       "       [    32, 120000],\n",
       "       [    38,  80000],\n",
       "       [    40,  59000],\n",
       "       [    25,  33000],\n",
       "       [    28,  32000],\n",
       "       [    59,  83000],\n",
       "       [    26,  84000],\n",
       "       [    27,  58000],\n",
       "       [    48,  41000],\n",
       "       [    39,  61000],\n",
       "       [    20,  86000],\n",
       "       [    34,  43000],\n",
       "       [    50,  88000],\n",
       "       [    36, 126000],\n",
       "       [    27,  89000],\n",
       "       [    46,  59000],\n",
       "       [    34, 112000],\n",
       "       [    24,  23000],\n",
       "       [    40,  57000],\n",
       "       [    31,  58000],\n",
       "       [    32,  18000],\n",
       "       [    35,  60000],\n",
       "       [    26,  86000],\n",
       "       [    46,  28000],\n",
       "       [    47,  47000],\n",
       "       [    29,  80000],\n",
       "       [    24,  27000],\n",
       "       [    32, 150000],\n",
       "       [    40,  72000],\n",
       "       [    26,  16000],\n",
       "       [    27,  96000],\n",
       "       [    32, 100000],\n",
       "       [    47,  43000],\n",
       "       [    42,  65000],\n",
       "       [    32, 117000]], dtype=int64)"
      ]
     },
     "execution_count": 5,
     "metadata": {},
     "output_type": "execute_result"
    }
   ],
   "source": [
    "X_test"
   ]
  },
  {
   "cell_type": "code",
   "execution_count": 6,
   "id": "fedd264b",
   "metadata": {},
   "outputs": [
    {
     "data": {
      "text/plain": [
       "array([0, 0, 0, 0, 0, 1, 1, 0, 0, 1, 0, 1, 0, 0, 0, 0, 0, 0, 0, 1, 0, 1,\n",
       "       1, 0, 0, 0, 0, 1, 0, 1, 0, 0, 0, 0, 1, 0, 0, 0, 0, 0, 0, 0, 0, 0,\n",
       "       0, 0, 0, 1, 1, 1, 0, 0, 1, 0, 0, 1, 0, 0, 0, 0, 0, 0, 1, 0, 1, 0,\n",
       "       0, 0, 0, 1, 0, 0, 0, 0, 0, 0, 0, 0, 0, 0, 0, 0, 0, 0, 0, 1, 1, 0,\n",
       "       0, 1, 1, 0, 0, 0, 0, 0, 1, 0, 0, 0, 0, 1, 0, 1, 1, 0, 0, 0, 0, 0,\n",
       "       0, 0, 0, 0, 0, 0, 0, 0, 0, 0, 0, 1, 1, 0, 0, 0, 0, 0, 0, 0, 0, 0,\n",
       "       0, 0, 0, 1, 1, 0, 0, 0, 0, 0, 0, 0, 0, 0, 0, 0, 0, 0, 1, 0, 0, 0,\n",
       "       1, 0, 0, 0, 0, 0, 1, 0, 0, 0, 0, 0, 0, 1, 0, 0, 0, 0, 0, 0, 0, 0,\n",
       "       1, 1, 0, 1, 0, 0, 0, 0, 0, 0], dtype=int64)"
      ]
     },
     "execution_count": 6,
     "metadata": {},
     "output_type": "execute_result"
    }
   ],
   "source": [
    "y_train"
   ]
  },
  {
   "cell_type": "code",
   "execution_count": 7,
   "id": "aff46504",
   "metadata": {},
   "outputs": [
    {
     "data": {
      "text/plain": [
       "array([0, 1, 0, 0, 0, 0, 0, 1, 0, 0, 0, 0, 0, 0, 0, 1, 0, 0, 1, 0, 0, 0,\n",
       "       0, 0, 0, 0, 0, 0, 1, 0, 0, 0, 0, 0, 0, 0, 1, 0, 0, 0, 1, 1, 0, 0,\n",
       "       1, 0, 0, 0, 0, 0, 0, 1, 0, 0, 0, 1, 0, 0, 1, 1, 0, 0, 0],\n",
       "      dtype=int64)"
      ]
     },
     "execution_count": 7,
     "metadata": {},
     "output_type": "execute_result"
    }
   ],
   "source": [
    "y_test"
   ]
  },
  {
   "cell_type": "markdown",
   "id": "620bfb3d",
   "metadata": {},
   "source": [
    "### Feature Scaling"
   ]
  },
  {
   "cell_type": "code",
   "execution_count": 8,
   "id": "1978b10c",
   "metadata": {},
   "outputs": [],
   "source": [
    "from sklearn.preprocessing import StandardScaler\n",
    "sc = StandardScaler()\n",
    "X_train = sc.fit_transform(X_train)\n",
    "X_test = sc.transform(X_test)"
   ]
  },
  {
   "cell_type": "code",
   "execution_count": 9,
   "id": "173edc16",
   "metadata": {},
   "outputs": [
    {
     "data": {
      "text/plain": [
       "array([[ 0.62172286,  0.16417863],\n",
       "       [-0.50000992, -0.18817396],\n",
       "       [-0.50000992, -0.6286147 ],\n",
       "       [-0.1940828 , -1.48013346],\n",
       "       [-1.41779128, -1.1865063 ],\n",
       "       [ 2.76321271,  1.07442282],\n",
       "       [ 2.04938276,  2.27829416],\n",
       "       [ 1.33555281, -1.27459445],\n",
       "       [-1.11186416,  0.45780578],\n",
       "       [ 1.43752852, -1.1865063 ],\n",
       "       [ 0.82567427, -0.42307569],\n",
       "       [-0.09210709,  1.51486355],\n",
       "       [ 0.00986862, -0.15881125],\n",
       "       [-1.41779128,  0.31099221],\n",
       "       [-0.50000992,  0.69270751],\n",
       "       [-0.80593704,  0.63398208],\n",
       "       [ 0.72369857,  0.28162949],\n",
       "       [-0.39803421,  0.51653122],\n",
       "       [-0.90791275, -1.3626826 ],\n",
       "       [ 1.64147993, -1.09841815],\n",
       "       [-1.31581558,  0.25226677],\n",
       "       [-0.50000992,  1.69103985],\n",
       "       [ 0.21382003,  0.75143294],\n",
       "       [-0.60198563, -1.42140803],\n",
       "       [-0.09210709, -1.39204531],\n",
       "       [-0.60198563, -0.2468994 ],\n",
       "       [-0.70396133, -0.89287914],\n",
       "       [ 1.33555281, -1.24523173],\n",
       "       [-0.1940828 ,  0.25226677],\n",
       "       [ 0.41777145,  2.30765688],\n",
       "       [-0.60198563, -1.33331988],\n",
       "       [-1.00988846, -0.51116384],\n",
       "       [-1.31581558,  0.4871685 ],\n",
       "       [-0.1940828 , -0.92224186],\n",
       "       [ 1.53950422, -1.06905544],\n",
       "       [-1.31581558,  0.4871685 ],\n",
       "       [ 0.00986862, -0.71670285],\n",
       "       [-0.60198563, -0.21753668],\n",
       "       [ 0.21382003, -1.27459445],\n",
       "       [-0.2960585 ,  0.42844307],\n",
       "       [-1.51976699, -0.6286147 ],\n",
       "       [-0.70396133, -0.65797742],\n",
       "       [ 0.11184432,  1.45613812],\n",
       "       [-1.41779128, -1.30395716],\n",
       "       [-0.50000992, -0.18817396],\n",
       "       [-0.90791275, -0.30562483],\n",
       "       [-0.70396133,  0.42844307],\n",
       "       [ 1.33555281,  0.39908035],\n",
       "       [ 1.53950422,  0.89824652],\n",
       "       [ 0.72369857,  1.22123639],\n",
       "       [ 0.00986862, -0.42307569],\n",
       "       [-1.51976699,  0.4871685 ],\n",
       "       [ 1.43752852, -1.03969272],\n",
       "       [-0.90791275, -0.98096729],\n",
       "       [ 0.41777145, -0.36435026],\n",
       "       [ 1.2335771 , -1.27459445],\n",
       "       [-1.11186416, -0.30562483],\n",
       "       [-0.80593704,  0.39908035],\n",
       "       [-1.21383987,  0.66334479],\n",
       "       [ 0.82567427,  0.19354134],\n",
       "       [ 0.21382003, -0.36435026],\n",
       "       [ 0.11184432, -1.1865063 ],\n",
       "       [ 2.35530988,  1.98466701],\n",
       "       [-1.00988846,  0.01736505],\n",
       "       [-0.2960585 ,  1.22123639],\n",
       "       [-0.2960585 ,  0.39908035],\n",
       "       [-0.1940828 ,  0.31099221],\n",
       "       [-0.50000992, -0.30562483],\n",
       "       [-0.2960585 , -1.48013346],\n",
       "       [ 2.35530988,  1.13314825],\n",
       "       [ 0.72369857, -0.54052655],\n",
       "       [-0.70396133, -1.03969272],\n",
       "       [ 0.51974715, -0.12944853],\n",
       "       [-0.1940828 ,  0.16417863],\n",
       "       [ 0.21382003,  0.22290406],\n",
       "       [-0.39803421,  0.28162949],\n",
       "       [-0.39803421, -1.09841815],\n",
       "       [ 0.31579574, -0.45243841],\n",
       "       [ 1.33555281,  0.4871685 ],\n",
       "       [ 0.41777145, -0.30562483],\n",
       "       [-1.41779128, -1.3626826 ],\n",
       "       [-0.39803421,  0.51653122],\n",
       "       [ 0.21382003, -0.6286147 ],\n",
       "       [-0.1940828 ,  0.07609048],\n",
       "       [-0.1940828 ,  0.69270751],\n",
       "       [-0.2960585 ,  2.04339244],\n",
       "       [-0.1940828 ,  1.54422627],\n",
       "       [ 0.21382003, -0.45243841],\n",
       "       [-1.51976699,  0.07609048],\n",
       "       [ 1.2335771 , -1.27459445],\n",
       "       [ 2.661237  ,  2.27829416],\n",
       "       [-0.2960585 ,  0.69270751],\n",
       "       [-0.50000992,  0.63398208],\n",
       "       [-0.60198563,  0.66334479],\n",
       "       [ 0.00986862, -1.01033001],\n",
       "       [ 0.21382003, -0.77542828],\n",
       "       [ 2.45728559,  1.66167713],\n",
       "       [-0.60198563,  0.54589393],\n",
       "       [-1.11186416, -0.0707231 ],\n",
       "       [-0.2960585 , -0.10008582],\n",
       "       [ 0.41777145,  0.19354134],\n",
       "       [ 1.64147993,  0.60461936],\n",
       "       [ 0.21382003,  0.19354134],\n",
       "       [ 0.92764998,  2.45447046],\n",
       "       [ 2.25333418,  1.89657886],\n",
       "       [-0.90791275,  0.54589393],\n",
       "       [-0.2960585 ,  1.48550084],\n",
       "       [ 2.661237  , -0.68734013],\n",
       "       [-0.70396133, -0.39371297],\n",
       "       [ 0.82567427, -0.18817396],\n",
       "       [-0.09210709,  0.60461936],\n",
       "       [ 0.21382003, -1.12778087],\n",
       "       [-0.50000992,  0.39908035],\n",
       "       [-0.39803421, -0.54052655],\n",
       "       [-0.90791275, -0.21753668],\n",
       "       [ 0.21382003, -1.33331988],\n",
       "       [ 0.31579574,  0.28162949],\n",
       "       [-0.70396133,  0.42844307],\n",
       "       [ 0.21382003,  1.25059911],\n",
       "       [-1.21383987,  0.19354134],\n",
       "       [-0.2960585 ,  0.63398208],\n",
       "       [ 2.76321271,  1.25059911],\n",
       "       [ 1.2335771 , -1.15714359],\n",
       "       [-0.70396133,  0.19354134],\n",
       "       [-1.21383987,  0.07609048],\n",
       "       [ 0.21382003, -1.24523173],\n",
       "       [ 0.00986862,  0.10545319],\n",
       "       [-1.41779128, -1.15714359],\n",
       "       [-0.2960585 , -1.42140803],\n",
       "       [-0.60198563,  0.72207023],\n",
       "       [-0.39803421, -0.65797742],\n",
       "       [ 0.00986862, -0.65797742],\n",
       "       [ 0.92764998,  0.42844307],\n",
       "       [ 0.21382003, -0.804791  ],\n",
       "       [ 0.82567427, -0.59925198],\n",
       "       [-0.60198563,  2.10211787],\n",
       "       [ 2.5592613 ,  1.0450601 ],\n",
       "       [-0.70396133, -0.98096729],\n",
       "       [-0.1940828 ,  0.01736505],\n",
       "       [ 0.82567427,  0.42844307],\n",
       "       [ 0.62172286, -0.68734013],\n",
       "       [-1.21383987, -1.45077074],\n",
       "       [ 0.21382003,  0.16417863],\n",
       "       [ 0.21382003, -0.18817396],\n",
       "       [ 0.72369857,  0.36971764],\n",
       "       [ 0.82567427, -1.03969272],\n",
       "       [-0.1940828 , -1.39204531],\n",
       "       [-0.80593704, -1.27459445],\n",
       "       [-0.50000992, -0.83415371],\n",
       "       [-1.31581558, -0.48180112],\n",
       "       [ 1.84543135,  2.36638231],\n",
       "       [-1.00988846, -1.09841815],\n",
       "       [-0.70396133, -1.42140803],\n",
       "       [-1.31581558, -0.86351643],\n",
       "       [ 0.72369857,  2.24893145],\n",
       "       [ 0.72369857, -0.2468994 ],\n",
       "       [-0.39803421, -0.12944853],\n",
       "       [ 0.51974715, -0.18817396],\n",
       "       [-1.31581558, -1.24523173],\n",
       "       [-1.11186416, -1.12778087],\n",
       "       [ 1.43752852, -1.33331988],\n",
       "       [-1.51976699,  0.60461936],\n",
       "       [ 0.62172286, -0.68734013],\n",
       "       [ 0.51974715,  1.36804997],\n",
       "       [ 0.11184432,  0.19354134],\n",
       "       [ 0.41777145,  0.42844307],\n",
       "       [-0.60198563, -1.01033001],\n",
       "       [ 0.21382003,  2.39574503],\n",
       "       [-1.41779128,  0.13481591],\n",
       "       [-1.11186416, -1.39204531],\n",
       "       [-1.41779128,  0.57525665],\n",
       "       [-0.70396133,  0.45780578],\n",
       "       [ 1.64147993, -0.01199767],\n",
       "       [-0.80593704,  0.42844307],\n",
       "       [-0.50000992,  0.57525665],\n",
       "       [ 0.00986862, -1.09841815],\n",
       "       [ 1.43752852, -0.48180112],\n",
       "       [ 1.94740705,  2.48383317],\n",
       "       [ 0.21382003, -0.01199767],\n",
       "       [ 0.00986862,  2.45447046],\n",
       "       [ 0.11184432, -0.65797742],\n",
       "       [-1.00988846,  0.4871685 ],\n",
       "       [-0.39803421, -0.65797742],\n",
       "       [ 0.31579574, -0.39371297],\n",
       "       [-0.60198563, -0.33498754],\n",
       "       [-0.70396133,  1.54422627]])"
      ]
     },
     "execution_count": 9,
     "metadata": {},
     "output_type": "execute_result"
    }
   ],
   "source": [
    "X_train"
   ]
  },
  {
   "cell_type": "code",
   "execution_count": 10,
   "id": "7c15b60c",
   "metadata": {},
   "outputs": [
    {
     "data": {
      "text/plain": [
       "array([[ 0.82567427, -0.39371297],\n",
       "       [-0.39803421,  2.42510774],\n",
       "       [-1.51976699, -0.39371297],\n",
       "       [-0.70396133, -1.48013346],\n",
       "       [-0.90791275,  0.69270751],\n",
       "       [ 0.00986862,  1.39741269],\n",
       "       [-1.00988846, -1.33331988],\n",
       "       [-0.09210709,  2.04339244],\n",
       "       [ 1.33555281,  0.89824652],\n",
       "       [ 0.21382003, -0.21753668],\n",
       "       [ 0.21382003, -1.1865063 ],\n",
       "       [ 1.64147993,  0.25226677],\n",
       "       [ 0.21382003,  0.66334479],\n",
       "       [ 0.21382003, -0.54052655],\n",
       "       [-0.80593704,  0.72207023],\n",
       "       [ 0.62172286,  2.01402972],\n",
       "       [-0.90791275, -0.30562483],\n",
       "       [ 0.21382003,  0.28162949],\n",
       "       [ 0.92764998,  0.42844307],\n",
       "       [-0.70396133, -1.48013346],\n",
       "       [ 0.82567427,  0.16417863],\n",
       "       [-1.00988846, -0.0707231 ],\n",
       "       [ 0.41777145, -0.95160457],\n",
       "       [ 0.21382003, -0.45243841],\n",
       "       [-0.50000992,  0.54589393],\n",
       "       [ 1.94740705,  1.42677541],\n",
       "       [-0.2960585 , -0.48180112],\n",
       "       [ 0.41777145,  0.16417863],\n",
       "       [-0.09210709,  1.6029517 ],\n",
       "       [ 0.51974715,  0.42844307],\n",
       "       [ 0.72369857, -0.18817396],\n",
       "       [-0.80593704, -0.95160457],\n",
       "       [-0.50000992, -0.98096729],\n",
       "       [ 2.661237  ,  0.51653122],\n",
       "       [-0.70396133,  0.54589393],\n",
       "       [-0.60198563, -0.21753668],\n",
       "       [ 1.53950422, -0.71670285],\n",
       "       [ 0.62172286, -0.12944853],\n",
       "       [-1.31581558,  0.60461936],\n",
       "       [ 0.11184432, -0.65797742],\n",
       "       [ 1.74345564,  0.66334479],\n",
       "       [ 0.31579574,  1.779128  ],\n",
       "       [-0.60198563,  0.69270751],\n",
       "       [ 1.33555281, -0.18817396],\n",
       "       [ 0.11184432,  1.36804997],\n",
       "       [-0.90791275, -1.24523173],\n",
       "       [ 0.72369857, -0.2468994 ],\n",
       "       [-0.1940828 , -0.21753668],\n",
       "       [-0.09210709, -1.39204531],\n",
       "       [ 0.21382003, -0.15881125],\n",
       "       [-0.70396133,  0.60461936],\n",
       "       [ 1.33555281, -1.09841815],\n",
       "       [ 1.43752852, -0.54052655],\n",
       "       [-0.39803421,  0.42844307],\n",
       "       [-0.90791275, -1.12778087],\n",
       "       [-0.09210709,  2.48383317],\n",
       "       [ 0.72369857,  0.19354134],\n",
       "       [-0.70396133, -1.45077074],\n",
       "       [-0.60198563,  0.89824652],\n",
       "       [-0.09210709,  1.01569738],\n",
       "       [ 1.43752852, -0.65797742],\n",
       "       [ 0.92764998, -0.01199767],\n",
       "       [-0.09210709,  1.51486355]])"
      ]
     },
     "execution_count": 10,
     "metadata": {},
     "output_type": "execute_result"
    }
   ],
   "source": [
    "X_test"
   ]
  },
  {
   "cell_type": "markdown",
   "id": "5fca8b89",
   "metadata": {},
   "source": [
    "## The Logistic Regression Model"
   ]
  },
  {
   "cell_type": "markdown",
   "id": "2ab67798",
   "metadata": {},
   "source": [
    "### Training the Model"
   ]
  },
  {
   "cell_type": "code",
   "execution_count": 11,
   "id": "bda96be0",
   "metadata": {},
   "outputs": [
    {
     "data": {
      "text/html": [
       "<style>#sk-container-id-1 {color: black;background-color: white;}#sk-container-id-1 pre{padding: 0;}#sk-container-id-1 div.sk-toggleable {background-color: white;}#sk-container-id-1 label.sk-toggleable__label {cursor: pointer;display: block;width: 100%;margin-bottom: 0;padding: 0.3em;box-sizing: border-box;text-align: center;}#sk-container-id-1 label.sk-toggleable__label-arrow:before {content: \"▸\";float: left;margin-right: 0.25em;color: #696969;}#sk-container-id-1 label.sk-toggleable__label-arrow:hover:before {color: black;}#sk-container-id-1 div.sk-estimator:hover label.sk-toggleable__label-arrow:before {color: black;}#sk-container-id-1 div.sk-toggleable__content {max-height: 0;max-width: 0;overflow: hidden;text-align: left;background-color: #f0f8ff;}#sk-container-id-1 div.sk-toggleable__content pre {margin: 0.2em;color: black;border-radius: 0.25em;background-color: #f0f8ff;}#sk-container-id-1 input.sk-toggleable__control:checked~div.sk-toggleable__content {max-height: 200px;max-width: 100%;overflow: auto;}#sk-container-id-1 input.sk-toggleable__control:checked~label.sk-toggleable__label-arrow:before {content: \"▾\";}#sk-container-id-1 div.sk-estimator input.sk-toggleable__control:checked~label.sk-toggleable__label {background-color: #d4ebff;}#sk-container-id-1 div.sk-label input.sk-toggleable__control:checked~label.sk-toggleable__label {background-color: #d4ebff;}#sk-container-id-1 input.sk-hidden--visually {border: 0;clip: rect(1px 1px 1px 1px);clip: rect(1px, 1px, 1px, 1px);height: 1px;margin: -1px;overflow: hidden;padding: 0;position: absolute;width: 1px;}#sk-container-id-1 div.sk-estimator {font-family: monospace;background-color: #f0f8ff;border: 1px dotted black;border-radius: 0.25em;box-sizing: border-box;margin-bottom: 0.5em;}#sk-container-id-1 div.sk-estimator:hover {background-color: #d4ebff;}#sk-container-id-1 div.sk-parallel-item::after {content: \"\";width: 100%;border-bottom: 1px solid gray;flex-grow: 1;}#sk-container-id-1 div.sk-label:hover label.sk-toggleable__label {background-color: #d4ebff;}#sk-container-id-1 div.sk-serial::before {content: \"\";position: absolute;border-left: 1px solid gray;box-sizing: border-box;top: 0;bottom: 0;left: 50%;z-index: 0;}#sk-container-id-1 div.sk-serial {display: flex;flex-direction: column;align-items: center;background-color: white;padding-right: 0.2em;padding-left: 0.2em;position: relative;}#sk-container-id-1 div.sk-item {position: relative;z-index: 1;}#sk-container-id-1 div.sk-parallel {display: flex;align-items: stretch;justify-content: center;background-color: white;position: relative;}#sk-container-id-1 div.sk-item::before, #sk-container-id-1 div.sk-parallel-item::before {content: \"\";position: absolute;border-left: 1px solid gray;box-sizing: border-box;top: 0;bottom: 0;left: 50%;z-index: -1;}#sk-container-id-1 div.sk-parallel-item {display: flex;flex-direction: column;z-index: 1;position: relative;background-color: white;}#sk-container-id-1 div.sk-parallel-item:first-child::after {align-self: flex-end;width: 50%;}#sk-container-id-1 div.sk-parallel-item:last-child::after {align-self: flex-start;width: 50%;}#sk-container-id-1 div.sk-parallel-item:only-child::after {width: 0;}#sk-container-id-1 div.sk-dashed-wrapped {border: 1px dashed gray;margin: 0 0.4em 0.5em 0.4em;box-sizing: border-box;padding-bottom: 0.4em;background-color: white;}#sk-container-id-1 div.sk-label label {font-family: monospace;font-weight: bold;display: inline-block;line-height: 1.2em;}#sk-container-id-1 div.sk-label-container {text-align: center;}#sk-container-id-1 div.sk-container {/* jupyter's `normalize.less` sets `[hidden] { display: none; }` but bootstrap.min.css set `[hidden] { display: none !important; }` so we also need the `!important` here to be able to override the default hidden behavior on the sphinx rendered scikit-learn.org. See: https://github.com/scikit-learn/scikit-learn/issues/21755 */display: inline-block !important;position: relative;}#sk-container-id-1 div.sk-text-repr-fallback {display: none;}</style><div id=\"sk-container-id-1\" class=\"sk-top-container\"><div class=\"sk-text-repr-fallback\"><pre>LogisticRegression(random_state=0)</pre><b>In a Jupyter environment, please rerun this cell to show the HTML representation or trust the notebook. <br />On GitHub, the HTML representation is unable to render, please try loading this page with nbviewer.org.</b></div><div class=\"sk-container\" hidden><div class=\"sk-item\"><div class=\"sk-estimator sk-toggleable\"><input class=\"sk-toggleable__control sk-hidden--visually\" id=\"sk-estimator-id-1\" type=\"checkbox\" checked><label for=\"sk-estimator-id-1\" class=\"sk-toggleable__label sk-toggleable__label-arrow\">LogisticRegression</label><div class=\"sk-toggleable__content\"><pre>LogisticRegression(random_state=0)</pre></div></div></div></div></div>"
      ],
      "text/plain": [
       "LogisticRegression(random_state=0)"
      ]
     },
     "execution_count": 11,
     "metadata": {},
     "output_type": "execute_result"
    }
   ],
   "source": [
    "from sklearn.linear_model import LogisticRegression\n",
    "classifier = LogisticRegression(random_state = 0)\n",
    "classifier.fit(X_train, y_train)"
   ]
  },
  {
   "cell_type": "markdown",
   "id": "7684b0e8",
   "metadata": {},
   "source": [
    "### Predicting new result"
   ]
  },
  {
   "cell_type": "code",
   "execution_count": 12,
   "id": "6aa1c1e0",
   "metadata": {},
   "outputs": [
    {
     "data": {
      "text/plain": [
       "array([0], dtype=int64)"
      ]
     },
     "execution_count": 12,
     "metadata": {},
     "output_type": "execute_result"
    }
   ],
   "source": [
    "classifier.predict(sc.transform([[30,87000]]))"
   ]
  },
  {
   "cell_type": "markdown",
   "id": "22075f74",
   "metadata": {},
   "source": [
    "### Predicting Test set result"
   ]
  },
  {
   "cell_type": "code",
   "execution_count": 13,
   "id": "859a1197",
   "metadata": {},
   "outputs": [
    {
     "data": {
      "text/plain": [
       "array([[0, 0],\n",
       "       [0, 1],\n",
       "       [0, 0],\n",
       "       [0, 0],\n",
       "       [0, 0],\n",
       "       [0, 0],\n",
       "       [0, 0],\n",
       "       [0, 1],\n",
       "       [1, 0],\n",
       "       [0, 0],\n",
       "       [0, 0],\n",
       "       [1, 0],\n",
       "       [0, 0],\n",
       "       [0, 0],\n",
       "       [0, 0],\n",
       "       [1, 1],\n",
       "       [0, 0],\n",
       "       [0, 0],\n",
       "       [1, 1],\n",
       "       [0, 0],\n",
       "       [0, 0],\n",
       "       [0, 0],\n",
       "       [0, 0],\n",
       "       [0, 0],\n",
       "       [0, 0],\n",
       "       [1, 0],\n",
       "       [0, 0],\n",
       "       [0, 0],\n",
       "       [0, 1],\n",
       "       [0, 0],\n",
       "       [0, 0],\n",
       "       [0, 0],\n",
       "       [0, 0],\n",
       "       [1, 0],\n",
       "       [0, 0],\n",
       "       [0, 0],\n",
       "       [0, 1],\n",
       "       [0, 0],\n",
       "       [0, 0],\n",
       "       [0, 0],\n",
       "       [1, 1],\n",
       "       [1, 1],\n",
       "       [0, 0],\n",
       "       [1, 0],\n",
       "       [0, 1],\n",
       "       [0, 0],\n",
       "       [0, 0],\n",
       "       [0, 0],\n",
       "       [0, 0],\n",
       "       [0, 0],\n",
       "       [0, 0],\n",
       "       [0, 1],\n",
       "       [0, 0],\n",
       "       [0, 0],\n",
       "       [0, 0],\n",
       "       [1, 1],\n",
       "       [0, 0],\n",
       "       [0, 0],\n",
       "       [0, 1],\n",
       "       [0, 1],\n",
       "       [0, 0],\n",
       "       [0, 0],\n",
       "       [0, 0]], dtype=int64)"
      ]
     },
     "execution_count": 13,
     "metadata": {},
     "output_type": "execute_result"
    }
   ],
   "source": [
    "y_pred = classifier.predict(X_test)\n",
    "np.concatenate((y_pred.reshape(len(y_pred),1), y_test.reshape(len(y_test),1)),1)"
   ]
  },
  {
   "cell_type": "code",
   "execution_count": 14,
   "id": "19538670",
   "metadata": {},
   "outputs": [
    {
     "data": {
      "text/plain": [
       "array([[45,  5],\n",
       "       [ 8,  5]], dtype=int64)"
      ]
     },
     "execution_count": 14,
     "metadata": {},
     "output_type": "execute_result"
    }
   ],
   "source": [
    "from sklearn.metrics import confusion_matrix, accuracy_score\n",
    "cm = confusion_matrix(y_test, y_pred)\n",
    "cm"
   ]
  },
  {
   "cell_type": "code",
   "execution_count": 15,
   "id": "d802de86",
   "metadata": {},
   "outputs": [
    {
     "data": {
      "text/plain": [
       "0.7936507936507936"
      ]
     },
     "execution_count": 15,
     "metadata": {},
     "output_type": "execute_result"
    }
   ],
   "source": [
    "accuracy_score(y_test, y_pred)"
   ]
  },
  {
   "cell_type": "markdown",
   "id": "3bb0121d",
   "metadata": {},
   "source": [
    "## Model Visualization"
   ]
  },
  {
   "cell_type": "markdown",
   "id": "dfd0be9e",
   "metadata": {},
   "source": [
    "### Training set"
   ]
  },
  {
   "cell_type": "code",
   "execution_count": 16,
   "id": "8a39f125",
   "metadata": {},
   "outputs": [
    {
     "name": "stderr",
     "output_type": "stream",
     "text": [
      "C:\\Users\\r\\AppData\\Local\\Temp\\ipykernel_15560\\2276498564.py:10: UserWarning: *c* argument looks like a single numeric RGB or RGBA sequence, which should be avoided as value-mapping will have precedence in case its length matches with *x* & *y*.  Please use the *color* keyword-argument or provide a 2D array with a single row if you intend to specify the same RGB or RGBA value for all points.\n",
      "  plt.scatter(X_set[y_set == j, 0], X_set[y_set == j, 1], c = ListedColormap(('red', 'green'))(i), label = j)\n"
     ]
    },
    {
     "data": {
      "image/png": "[encoded data removed]",
      "text/plain": [
       "<Figure size 640x480 with 1 Axes>"
      ]
     },
     "metadata": {},
     "output_type": "display_data"
    }
   ],
   "source": [
    "from matplotlib.colors import ListedColormap\n",
    "X_set, y_set = sc.inverse_transform(X_train), y_train\n",
    "X1, X2 = np.meshgrid(np.arange(start = X_set[:, 0].min() - 10, stop = X_set[:, 0].max() + 10, step = 0.25),\n",
    "                     np.arange(start = X_set[:, 1].min() - 1000, stop = X_set[:, 1].max() + 1000, step = 0.25))\n",
    "plt.contourf(X1, X2, classifier.predict(sc.transform(np.array([X1.ravel(), X2.ravel()]).T)).reshape(X1.shape),\n",
    "             alpha = 0.75, cmap = ListedColormap(('red', 'green')))\n",
    "plt.xlim(X1.min(), X1.max())\n",
    "plt.ylim(X2.min(), X2.max())\n",
    "for i, j in enumerate(np.unique(y_set)):\n",
    "    plt.scatter(X_set[y_set == j, 0], X_set[y_set == j, 1], c = ListedColormap(('red', 'green'))(i), label = j)\n",
    "plt.title('Logistic Regression (Training set)')\n",
    "plt.xlabel('Age')\n",
    "plt.ylabel('Estimated Salary')\n",
    "plt.legend()\n",
    "plt.show()"
   ]
  },
  {
   "cell_type": "markdown",
   "id": "bf3aa262",
   "metadata": {},
   "source": [
    "### Test set"
   ]
  },
  {
   "cell_type": "code",
   "execution_count": 17,
   "id": "12ecc86d",
   "metadata": {},
   "outputs": [
    {
     "name": "stderr",
     "output_type": "stream",
     "text": [
      "C:\\Users\\r\\AppData\\Local\\Temp\\ipykernel_15560\\3848652112.py:10: UserWarning: *c* argument looks like a single numeric RGB or RGBA sequence, which should be avoided as value-mapping will have precedence in case its length matches with *x* & *y*.  Please use the *color* keyword-argument or provide a 2D array with a single row if you intend to specify the same RGB or RGBA value for all points.\n",
      "  plt.scatter(X_set[y_set == j, 0], X_set[y_set == j, 1], c = ListedColormap(('red', 'green'))(i), label = j)\n"
     ]
    },
    {
     "data": {
      "image/png": "[encoded data removed]",
      "text/plain": [
       "<Figure size 640x480 with 1 Axes>"
      ]
     },
     "metadata": {},
     "output_type": "display_data"
    }
   ],
   "source": [
    "from matplotlib.colors import ListedColormap\n",
    "X_set, y_set = sc.inverse_transform(X_test), y_test\n",
    "X1, X2 = np.meshgrid(np.arange(start = X_set[:, 0].min() - 10, stop = X_set[:, 0].max() + 10, step = 0.25),\n",
    "                     np.arange(start = X_set[:, 1].min() - 1000, stop = X_set[:, 1].max() + 1000, step = 0.25))\n",
    "plt.contourf(X1, X2, classifier.predict(sc.transform(np.array([X1.ravel(), X2.ravel()]).T)).reshape(X1.shape),\n",
    "             alpha = 0.75, cmap = ListedColormap(('red', 'green')))\n",
    "plt.xlim(X1.min(), X1.max())\n",
    "plt.ylim(X2.min(), X2.max())\n",
    "for i, j in enumerate(np.unique(y_set)):\n",
    "    plt.scatter(X_set[y_set == j, 0], X_set[y_set == j, 1], c = ListedColormap(('red', 'green'))(i), label = j)\n",
    "plt.title('Logistic Regression (Test set)')\n",
    "plt.xlabel('Age')\n",
    "plt.ylabel('Estimated Salary')\n",
    "plt.legend()\n",
    "plt.show()"
   ]
  },
  {
   "cell_type": "markdown",
   "id": "591526b3",
   "metadata": {},
   "source": [
    "### Conclusion\n",
    "#### The linear classifier has a difficult time classifying outlining observations with predictions"
   ]
  },
  {
   "cell_type": "code",
   "execution_count": null,
   "id": "cac68ab3",
   "metadata": {},
   "outputs": [],
   "source": []
  }
 ],
 "metadata": {
  "kernelspec": {
   "display_name": "Python 3 (ipykernel)",
   "language": "python",
   "name": "python3"
  },
  "language_info": {
   "codemirror_mode": {
    "name": "ipython",
    "version": 3
   },
   "file_extension": ".py",
   "mimetype": "text/x-python",
   "name": "python",
   "nbconvert_exporter": "python",
   "pygments_lexer": "ipython3",
   "version": "3.11.2"
  }
 },
 "nbformat": 4,
 "nbformat_minor": 5
}
